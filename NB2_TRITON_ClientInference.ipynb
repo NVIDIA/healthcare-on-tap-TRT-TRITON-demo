{
 "cells": [
  {
   "cell_type": "markdown",
   "metadata": {},
   "source": [
    "```\n",
    "The MIT License (MIT)\n",
    "\n",
    "Copyright (c) 2020 NVIDIA\n",
    "\n",
    "Permission is hereby granted, free of charge, to any person obtaining a copy of\n",
    "this software and associated documentation files (the \"Software\"), to deal in\n",
    "the Software without restriction, including without limitation the rights to\n",
    "use, copy, modify, merge, publish, distribute, sublicense, and/or sell copies of\n",
    "the Software, and to permit persons to whom the Software is furnished to do so,\n",
    "subject to the following conditions:\n",
    "\n",
    "The above copyright notice and this permission notice shall be included in all\n",
    "copies or substantial portions of the Software.\n",
    "\n",
    "THE SOFTWARE IS PROVIDED \"AS IS\", WITHOUT WARRANTY OF ANY KIND, EXPRESS OR\n",
    "IMPLIED, INCLUDING BUT NOT LIMITED TO THE WARRANTIES OF MERCHANTABILITY, FITNESS\n",
    "FOR A PARTICULAR PURPOSE AND NONINFRINGEMENT. IN NO EVENT SHALL THE AUTHORS OR\n",
    "COPYRIGHT HOLDERS BE LIABLE FOR ANY CLAIM, DAMAGES OR OTHER LIABILITY, WHETHER\n",
    "IN AN ACTION OF CONTRACT, TORT OR OTHERWISE, ARISING FROM, OUT OF OR IN\n",
    "CONNECTION WITH THE SOFTWARE OR THE USE OR OTHER DEALINGS IN THE SOFTWARE.\n",
    "\n",
    "```"
   ]
  },
  {
   "cell_type": "markdown",
   "metadata": {},
   "source": [
    "# Interacting with TRITON Inference Server\n",
    "\n",
    "Walthrough a generic pipeline for:\n",
    "- Using client libraries to run inference on models on TRITON sever\n",
    "- Modifying model configs\n",
    "\n",
    "#### Environment\n",
    "**1 - Client**\n",
    "All steps executed using **NGC Pytorch Docker (v 20.06)**\n",
    "* TRITON Client libraries installed within container\n",
    "\n",
    "**2 - Server**\n",
    "using **NGC tritonserver Docker (20.06-v1)**"
   ]
  },
  {
   "cell_type": "markdown",
   "metadata": {},
   "source": [
    "![TRITON Workflow](./NB_images/TRITON_image.png)"
   ]
  },
  {
   "cell_type": "markdown",
   "metadata": {},
   "source": [
    "Start a new terminal and start the TRITON server by running the following command\n",
    "\n",
    "`start_triton_server.sh`\n",
    "\n",
    "This simulates a \"Server\" running in a separate docker container"
   ]
  },
  {
   "cell_type": "code",
   "execution_count": 5,
   "metadata": {},
   "outputs": [],
   "source": [
    "import argparse\n",
    "import numpy as np\n",
    "import os\n",
    "import json\n",
    "from builtins import range\n",
    "import tensorrtserver.api.model_config_pb2 as model_config\n",
    "from tensorrtserver.api import *\n",
    "from dataset_utils import *"
   ]
  },
  {
   "cell_type": "code",
   "execution_count": 6,
   "metadata": {},
   "outputs": [
    {
     "name": "stdout",
     "output_type": "stream",
     "text": [
      "/\n",
      "    config.pbtxt\n",
      "    labels.txt\n",
      "1/\n",
      "    model.plan\n"
     ]
    }
   ],
   "source": [
    "list_files('./trtismodelrepo/v1/model_cxr_trt/')"
   ]
  },
  {
   "cell_type": "code",
   "execution_count": 7,
   "metadata": {},
   "outputs": [
    {
     "name": "stdout",
     "output_type": "stream",
     "text": [
      "name: \"model_cxr_trt\"\n",
      "platform: \"tensorrt_plan\"\n",
      "max_batch_size : 96\n",
      "input [\n",
      "  {\n",
      "    name: \"input\"\n",
      "    data_type: TYPE_FP32\n",
      "    format: FORMAT_NCHW\n",
      "    dims: [ 3, 224,224 ]\n",
      "  }\n",
      "]\n",
      "output [\n",
      "  {\n",
      "    name: \"output\"\n",
      "    data_type: TYPE_FP32\n",
      "    dims: [ 14 ]\n",
      "    label_filename: \"labels.txt\"\n",
      "  }\n",
      "]\n",
      "instance_group [\n",
      "  {\n",
      "    count: 2\n",
      "    kind: KIND_GPU\n",
      "  }\n",
      "]\n",
      "dynamic_batching {\n",
      "  preferred_batch_size: [ 80 ]\n",
      "}\n",
      "\n"
     ]
    }
   ],
   "source": [
    "!cat './trtismodelrepo/v1/model_cxr_trt/config.pbtxt'"
   ]
  },
  {
   "cell_type": "markdown",
   "metadata": {},
   "source": [
    "## Check status of Inference Server/Specific Model"
   ]
  },
  {
   "cell_type": "code",
   "execution_count": 13,
   "metadata": {
    "scrolled": true
   },
   "outputs": [],
   "source": [
    "# !curl localhost:8000/api/status"
   ]
  },
  {
   "cell_type": "code",
   "execution_count": 8,
   "metadata": {},
   "outputs": [
    {
     "name": "stdout",
     "output_type": "stream",
     "text": [
      "Live: True\n",
      "Ready: True\n"
     ]
    }
   ],
   "source": [
    "url = 'localhost:8000'\n",
    "protocol = ProtocolType.HTTP\n",
    "\n",
    "health_ctx = ServerHealthContext(url, protocol, verbose=True)\n",
    "print(\"Live: {}\".format(health_ctx.is_live()))\n",
    "print(\"Ready: {}\".format(health_ctx.is_ready()))"
   ]
  },
  {
   "cell_type": "code",
   "execution_count": 10,
   "metadata": {},
   "outputs": [
    {
     "name": "stdout",
     "output_type": "stream",
     "text": [
      "Status for model model_cxr_trt\n",
      "id: \"inference:0\"\n",
      "version: \"1.14.0\"\n",
      "uptime_ns: 241180253490\n",
      "model_status {\n",
      "  key: \"model_cxr_trt\"\n",
      "  value {\n",
      "    config {\n",
      "      name: \"model_cxr_trt\"\n",
      "      platform: \"tensorrt_plan\"\n",
      "      version_policy {\n",
      "        latest {\n",
      "          num_versions: 1\n",
      "        }\n",
      "      }\n",
      "      max_batch_size: 96\n",
      "      input {\n",
      "        name: \"input\"\n",
      "        data_type: TYPE_FP32\n",
      "        format: FORMAT_NCHW\n",
      "        dims: 3\n",
      "        dims: 224\n",
      "        dims: 224\n",
      "      }\n",
      "      output {\n",
      "        name: \"output\"\n",
      "        data_type: TYPE_FP32\n",
      "        dims: 14\n",
      "        label_filename: \"labels.txt\"\n",
      "      }\n",
      "      instance_group {\n",
      "        name: \"model_cxr_trt_0\"\n",
      "        count: 1\n",
      "        gpus: 0\n",
      "        kind: KIND_GPU\n",
      "      }\n",
      "      default_model_filename: \"model.plan\"\n",
      "      dynamic_batching {\n",
      "        preferred_batch_size: 80\n",
      "      }\n",
      "      optimization {\n",
      "        input_pinned_memory {\n",
      "          enable: true\n",
      "        }\n",
      "        output_pinned_memory {\n",
      "          enable: true\n",
      "        }\n",
      "      }\n",
      "    }\n",
      "    version_status {\n",
      "      key: 1\n",
      "      value {\n",
      "        ready_state: MODEL_READY\n",
      "        ready_state_reason {\n",
      "        }\n",
      "      }\n",
      "    }\n",
      "  }\n",
      "}\n",
      "ready_state: SERVER_READY\n",
      "\n"
     ]
    }
   ],
   "source": [
    "model_name = \"model_cxr_trt\"\n",
    "# Create a status context and get server status\n",
    "status_ctx = ServerStatusContext(url, protocol, model_name, verbose=True)\n",
    "print(\"Status for model {}\".format(model_name))\n",
    "print(status_ctx.get_server_status())"
   ]
  },
  {
   "cell_type": "code",
   "execution_count": 11,
   "metadata": {},
   "outputs": [],
   "source": [
    "ctx = ServerStatusContext(url, protocol, model_name, True)\n",
    "server_status = ctx.get_server_status()\n",
    "\n",
    "if model_name not in server_status.model_status:\n",
    "    raise Exception(\"unable to get status for '\" + model_name + \"'\")\n",
    "\n",
    "status = server_status.model_status[model_name]\n",
    "config = status.config"
   ]
  },
  {
   "cell_type": "code",
   "execution_count": 12,
   "metadata": {},
   "outputs": [],
   "source": [
    "def parse_model(url, protocol, model_name, batch_size, verbose=False):\n",
    "    \"\"\"\n",
    "    Check the configuration of a model to make sure it meets the\n",
    "    requirements\n",
    "    \"\"\"\n",
    "    ctx = ServerStatusContext(url, protocol, model_name, verbose)\n",
    "    server_status = ctx.get_server_status()\n",
    "\n",
    "    if model_name not in server_status.model_status:\n",
    "        raise Exception(\"unable to get status for '\" + model_name + \"'\")\n",
    "\n",
    "    status = server_status.model_status[model_name]\n",
    "    config = status.config\n",
    "\n",
    "    if len(config.input) != 1:\n",
    "        raise Exception(\"expecting 1 input, got {}\".format(len(config.input)))\n",
    "    if len(config.output) != 1:\n",
    "        raise Exception(\"expecting 1 output, got {}\".format(len(config.output)))\n",
    "\n",
    "    input = config.input[0]\n",
    "    output = config.output[0]\n",
    "    \n",
    "    # Model specifying maximum batch size of 0 indicates that batching\n",
    "    # is not supported and so the input tensors do not expect an \"N\"\n",
    "    # dimension (and 'batch_size' should be 1 so that only a single\n",
    "    # image instance is inferred at a time).\n",
    "    max_batch_size = config.max_batch_size\n",
    "    if max_batch_size == 0:\n",
    "        if batch_size != 1:\n",
    "            raise Exception(\"batching not supported for model '\" + model_name + \"'\")\n",
    "    else: # max_batch_size > 0\n",
    "        if batch_size > max_batch_size:\n",
    "            raise Exception(\"expecting batch size <= {} for model {}\".format(max_batch_size, model_name))\n",
    "\n",
    "#     Model input must have 3 dims, either CHW or HWC\n",
    "    if len(input.dims) != 3:\n",
    "        raise Exception(\n",
    "            \"expecting input to have 3 dimensions, model '{}' input has {}\".format(\n",
    "                model_name, len(input.dims)))\n",
    "\n",
    "    if input.format == model_config.ModelInput.FORMAT_NHWC:\n",
    "        h = input.dims[0]\n",
    "        w = input.dims[1]\n",
    "        c = input.dims[2]\n",
    "    else:\n",
    "        c = input.dims[0]\n",
    "        h = input.dims[1]\n",
    "        w = input.dims[2]\n",
    "\n",
    "    return (input.name, output.name, c, h, w, input.format, input.data_type)"
   ]
  },
  {
   "cell_type": "code",
   "execution_count": 13,
   "metadata": {},
   "outputs": [],
   "source": [
    "model_version = -1\n",
    "batch_size = 80\n",
    "\n",
    "input_name, output_name, c, h, w, format, dtype = parse_model(url, protocol, model_name, batch_size, verbose=True)"
   ]
  },
  {
   "cell_type": "markdown",
   "metadata": {},
   "source": [
    "## Setup Data for inference"
   ]
  },
  {
   "cell_type": "code",
   "execution_count": 14,
   "metadata": {},
   "outputs": [],
   "source": [
    "from dataset_utils import *\n",
    "\n",
    "def get_batched_image_input(bs):\n",
    "    all_inputs = []\n",
    "    dataset_json = 'CXR14_dataset.json'\n",
    "    with open(dataset_json) as json_file:\n",
    "        data = json.load(json_file)\n",
    "    \n",
    "    test_loader = get_test_loader_TTA(data, batch_size=bs)\n",
    "\n",
    "    # Using Test Time Augmentation    \n",
    "    for i, (input, target) in enumerate(test_loader):\n",
    "        bs, n_crops, c, h, w = input.size()\n",
    "        input = input.view(-1, c, h, w)\n",
    "\n",
    "        all_inputs.append(input)\n",
    "\n",
    "    return all_inputs, data['labels'][0]\n",
    "\n",
    "bs = 8 \n",
    "im_tensor, labels = get_batched_image_input(bs)"
   ]
  },
  {
   "cell_type": "markdown",
   "metadata": {},
   "source": [
    "## Setup inference on images"
   ]
  },
  {
   "cell_type": "code",
   "execution_count": 16,
   "metadata": {},
   "outputs": [],
   "source": [
    "def triton_inferer(ctx, input_name, output_name, batch):\n",
    "    batch = [batch[i].cpu().numpy().astype(np.float32) for i in range(0,batch.shape[0]) ]\n",
    "    input_dict = { input_name : batch }\n",
    "    output_dict = { output_name : (InferContext.ResultFormat.RAW)}\n",
    "    results = ctx.run(\n",
    "        inputs=input_dict, \n",
    "        outputs=output_dict, \n",
    "        batch_size=len(batch)\n",
    "    )\n",
    "    return results[output_name]\n",
    "\n",
    "def process_results_cxr(out):\n",
    "    outputs = torch.cat([torch.tensor(np.atleast_2d(im)) for im in out])\n",
    "    output = torch.nn.functional.softmax(outputs, dim=1).cpu()\n",
    "    output = output.view(8, 10, -1).mean(1).numpy()\n",
    "    top5 = np.argsort(output)[:,-5:][:,::-1]\n",
    "\n",
    "\n",
    "    for i in range(8):\n",
    "        t5 = top5[i]\n",
    "        op = output[i]\n",
    "        txt = 'Image {} -- '.format(i+1)\n",
    "        for c, v in zip(t5, op[t5]):\n",
    "            txt = txt + f\"{labels[str(c)]}: {100*v:.1f}% \"\n",
    "        print(txt)"
   ]
  },
  {
   "cell_type": "code",
   "execution_count": 17,
   "metadata": {},
   "outputs": [
    {
     "name": "stdout",
     "output_type": "stream",
     "text": [
      "Image 1 -- Cardiomegaly: 90.4% Effusion: 5.7% Emphysema: 2.0% Nodule: 0.5% Pleural_Thickening: 0.5% \n",
      "Image 2 -- Cardiomegaly: 91.4% Emphysema: 3.2% Effusion: 2.7% Infiltration: 1.0% Nodule: 0.5% \n",
      "Image 3 -- Cardiomegaly: 88.1% Effusion: 7.4% Emphysema: 1.6% Infiltration: 0.8% Atelectasis: 0.6% \n",
      "Image 4 -- Infiltration: 33.5% Nodule: 32.7% Emphysema: 9.1% Effusion: 8.8% Pleural_Thickening: 5.6% \n",
      "Image 5 -- Nodule: 51.6% Mass: 40.5% Infiltration: 4.2% Consolidation: 1.7% Atelectasis: 1.4% \n",
      "Image 6 -- Infiltration: 22.7% Nodule: 22.0% Atelectasis: 19.1% Pleural_Thickening: 8.7% Effusion: 6.9% \n",
      "Image 7 -- Infiltration: 39.7% Nodule: 30.7% Atelectasis: 7.3% Consolidation: 6.3% Pleural_Thickening: 4.5% \n",
      "Image 8 -- Infiltration: 34.8% Pneumothorax: 25.8% Atelectasis: 16.2% Consolidation: 9.7% Nodule: 3.9% \n"
     ]
    }
   ],
   "source": [
    "model_name = \"model_cxr_trt\"\n",
    "model_version = -1\n",
    "ctx = InferContext(url, protocol, model_name, model_version, verbose=False)\n",
    "out = triton_inferer(ctx, input_name, output_name, im_tensor[0])\n",
    "process_results_cxr(out)"
   ]
  },
  {
   "cell_type": "code",
   "execution_count": 18,
   "metadata": {},
   "outputs": [
    {
     "name": "stdout",
     "output_type": "stream",
     "text": [
      "Image 1 -- Cardiomegaly: 90.3% Effusion: 5.7% Emphysema: 2.0% Nodule: 0.5% Pleural_Thickening: 0.5% \n",
      "Image 2 -- Cardiomegaly: 91.3% Emphysema: 3.2% Effusion: 2.8% Infiltration: 1.0% Nodule: 0.5% \n",
      "Image 3 -- Cardiomegaly: 88.0% Effusion: 7.5% Emphysema: 1.6% Infiltration: 0.8% Atelectasis: 0.7% \n",
      "Image 4 -- Infiltration: 33.6% Nodule: 32.6% Emphysema: 9.0% Effusion: 8.8% Pleural_Thickening: 5.6% \n",
      "Image 5 -- Nodule: 51.5% Mass: 40.6% Infiltration: 4.2% Consolidation: 1.7% Atelectasis: 1.4% \n",
      "Image 6 -- Infiltration: 22.7% Nodule: 22.1% Atelectasis: 18.9% Pleural_Thickening: 8.6% Effusion: 6.8% \n",
      "Image 7 -- Infiltration: 39.6% Nodule: 30.7% Atelectasis: 7.3% Consolidation: 6.3% Pleural_Thickening: 4.6% \n",
      "Image 8 -- Infiltration: 34.7% Pneumothorax: 26.0% Atelectasis: 16.1% Consolidation: 9.7% Nodule: 3.9% \n"
     ]
    }
   ],
   "source": [
    "model_name = \"model_cxr_trt_fp16\"\n",
    "ctx = InferContext(url, protocol, model_name, model_version, verbose=False)\n",
    "out = triton_inferer(ctx, input_name, output_name, im_tensor[0])\n",
    "process_results_cxr(out)"
   ]
  },
  {
   "cell_type": "code",
   "execution_count": 19,
   "metadata": {},
   "outputs": [
    {
     "name": "stdout",
     "output_type": "stream",
     "text": [
      "Image 1 -- Cardiomegaly: 90.4% Effusion: 5.7% Emphysema: 2.0% Nodule: 0.5% Pleural_Thickening: 0.5% \n",
      "Image 2 -- Cardiomegaly: 91.4% Emphysema: 3.2% Effusion: 2.7% Infiltration: 1.0% Nodule: 0.5% \n",
      "Image 3 -- Cardiomegaly: 88.1% Effusion: 7.4% Emphysema: 1.6% Infiltration: 0.8% Atelectasis: 0.6% \n",
      "Image 4 -- Infiltration: 33.5% Nodule: 32.7% Emphysema: 9.1% Effusion: 8.8% Pleural_Thickening: 5.6% \n",
      "Image 5 -- Nodule: 51.6% Mass: 40.5% Infiltration: 4.2% Consolidation: 1.7% Atelectasis: 1.4% \n",
      "Image 6 -- Infiltration: 22.7% Nodule: 22.0% Atelectasis: 19.1% Pleural_Thickening: 8.7% Effusion: 6.9% \n",
      "Image 7 -- Infiltration: 39.7% Nodule: 30.7% Atelectasis: 7.3% Consolidation: 6.3% Pleural_Thickening: 4.5% \n",
      "Image 8 -- Infiltration: 34.8% Pneumothorax: 25.8% Atelectasis: 16.2% Consolidation: 9.7% Nodule: 3.9% \n"
     ]
    }
   ],
   "source": [
    "model_name = \"model_cxr_onnx\"\n",
    "ctx = InferContext(url, protocol, model_name, model_version, verbose=False)\n",
    "out = triton_inferer(ctx, input_name, output_name, im_tensor[0])\n",
    "process_results_cxr(out)"
   ]
  },
  {
   "cell_type": "code",
   "execution_count": 23,
   "metadata": {},
   "outputs": [
    {
     "name": "stdout",
     "output_type": "stream",
     "text": [
      "Status for model model_cxr_onnx\n",
      "id: \"inference:0\"\n",
      "version: \"1.14.0\"\n",
      "uptime_ns: 329289074009\n",
      "model_status {\n",
      "  key: \"model_cxr_onnx\"\n",
      "  value {\n",
      "    config {\n",
      "      name: \"model_cxr_onnx\"\n",
      "      platform: \"onnxruntime_onnx\"\n",
      "      version_policy {\n",
      "        latest {\n",
      "          num_versions: 1\n",
      "        }\n",
      "      }\n",
      "      max_batch_size: 80\n",
      "      input {\n",
      "        name: \"input\"\n",
      "        data_type: TYPE_FP32\n",
      "        format: FORMAT_NCHW\n",
      "        dims: 3\n",
      "        dims: 224\n",
      "        dims: 224\n",
      "      }\n",
      "      output {\n",
      "        name: \"output\"\n",
      "        data_type: TYPE_FP32\n",
      "        dims: 14\n",
      "        label_filename: \"labels.txt\"\n",
      "      }\n",
      "      instance_group {\n",
      "        name: \"model_cxr_onnx\"\n",
      "        count: 1\n",
      "        gpus: 0\n",
      "        kind: KIND_GPU\n",
      "      }\n",
      "      default_model_filename: \"model.onnx\"\n",
      "      dynamic_batching {\n",
      "        preferred_batch_size: 80\n",
      "      }\n",
      "      optimization {\n",
      "        input_pinned_memory {\n",
      "          enable: true\n",
      "        }\n",
      "        output_pinned_memory {\n",
      "          enable: true\n",
      "        }\n",
      "      }\n",
      "    }\n",
      "    version_status {\n",
      "      key: 1\n",
      "      value {\n",
      "        ready_state: MODEL_READY\n",
      "        ready_state_reason {\n",
      "        }\n",
      "      }\n",
      "    }\n",
      "  }\n",
      "}\n",
      "ready_state: SERVER_READY\n",
      "\n"
     ]
    }
   ],
   "source": [
    "model_name = \"model_cxr_onnx\"\n",
    "# Create a status context and get server status\n",
    "status_ctx = ServerStatusContext(url, protocol, model_name, verbose=True)\n",
    "print(\"Status for model {}\".format(model_name))\n",
    "print(status_ctx.get_server_status())"
   ]
  },
  {
   "cell_type": "code",
   "execution_count": 21,
   "metadata": {},
   "outputs": [],
   "source": [
    "import time"
   ]
  },
  {
   "cell_type": "code",
   "execution_count": 24,
   "metadata": {},
   "outputs": [
    {
     "name": "stdout",
     "output_type": "stream",
     "text": [
      "Iteration 100\n"
     ]
    },
    {
     "ename": "KeyboardInterrupt",
     "evalue": "",
     "output_type": "error",
     "traceback": [
      "\u001b[0;31m---------------------------------------------------------------------------\u001b[0m",
      "\u001b[0;31mKeyboardInterrupt\u001b[0m                         Traceback (most recent call last)",
      "\u001b[0;32m<ipython-input-24-9c244decdc89>\u001b[0m in \u001b[0;36m<module>\u001b[0;34m\u001b[0m\n\u001b[1;32m      4\u001b[0m     \u001b[0mout\u001b[0m \u001b[0;34m=\u001b[0m \u001b[0mtriton_inferer\u001b[0m\u001b[0;34m(\u001b[0m\u001b[0mctx\u001b[0m\u001b[0;34m,\u001b[0m \u001b[0minput_name\u001b[0m\u001b[0;34m,\u001b[0m \u001b[0moutput_name\u001b[0m\u001b[0;34m,\u001b[0m \u001b[0mim_tensor\u001b[0m\u001b[0;34m[\u001b[0m\u001b[0;36m0\u001b[0m\u001b[0;34m]\u001b[0m\u001b[0;34m)\u001b[0m\u001b[0;34m\u001b[0m\u001b[0;34m\u001b[0m\u001b[0m\n\u001b[1;32m      5\u001b[0m     \u001b[0;32mif\u001b[0m \u001b[0mcounter\u001b[0m \u001b[0;34m%\u001b[0m \u001b[0;36m100\u001b[0m \u001b[0;34m==\u001b[0m \u001b[0;36m0\u001b[0m\u001b[0;34m:\u001b[0m \u001b[0mprint\u001b[0m\u001b[0;34m(\u001b[0m\u001b[0;34m'Iteration {}'\u001b[0m\u001b[0;34m.\u001b[0m\u001b[0mformat\u001b[0m\u001b[0;34m(\u001b[0m\u001b[0mcounter\u001b[0m\u001b[0;34m)\u001b[0m\u001b[0;34m)\u001b[0m\u001b[0;34m\u001b[0m\u001b[0;34m\u001b[0m\u001b[0m\n\u001b[0;32m----> 6\u001b[0;31m     \u001b[0mtime\u001b[0m\u001b[0;34m.\u001b[0m\u001b[0msleep\u001b[0m\u001b[0;34m(\u001b[0m\u001b[0;36m2\u001b[0m\u001b[0;34m)\u001b[0m\u001b[0;34m\u001b[0m\u001b[0;34m\u001b[0m\u001b[0m\n\u001b[0m\u001b[1;32m      7\u001b[0m     \u001b[0mcounter\u001b[0m \u001b[0;34m+=\u001b[0m \u001b[0;36m1\u001b[0m\u001b[0;34m\u001b[0m\u001b[0;34m\u001b[0m\u001b[0m\n",
      "\u001b[0;31mKeyboardInterrupt\u001b[0m: "
     ]
    }
   ],
   "source": [
    "counter = 1\n",
    "ctx = InferContext(url, protocol, model_name, model_version, verbose=False)\n",
    "while counter < 10000:\n",
    "    out = triton_inferer(ctx, input_name, output_name, im_tensor[0])\n",
    "    if counter % 100 == 0: print('Iteration {}'.format(counter))\n",
    "    time.sleep(2)\n",
    "    counter += 1"
   ]
  },
  {
   "cell_type": "code",
   "execution_count": null,
   "metadata": {},
   "outputs": [],
   "source": []
  }
 ],
 "metadata": {
  "kernelspec": {
   "display_name": "Python 3",
   "language": "python",
   "name": "python3"
  },
  "language_info": {
   "codemirror_mode": {
    "name": "ipython",
    "version": 3
   },
   "file_extension": ".py",
   "mimetype": "text/x-python",
   "name": "python",
   "nbconvert_exporter": "python",
   "pygments_lexer": "ipython3",
   "version": "3.6.10"
  }
 },
 "nbformat": 4,
 "nbformat_minor": 4
}
