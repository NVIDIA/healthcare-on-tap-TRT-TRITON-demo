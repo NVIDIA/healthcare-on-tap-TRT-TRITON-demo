{
 "cells": [
  {
   "cell_type": "markdown",
   "metadata": {},
   "source": [
    "```\n",
    "The MIT License (MIT)\n",
    "\n",
    "Copyright (c) 2020 NVIDIA\n",
    "\n",
    "Permission is hereby granted, free of charge, to any person obtaining a copy of\n",
    "this software and associated documentation files (the \"Software\"), to deal in\n",
    "the Software without restriction, including without limitation the rights to\n",
    "use, copy, modify, merge, publish, distribute, sublicense, and/or sell copies of\n",
    "the Software, and to permit persons to whom the Software is furnished to do so,\n",
    "subject to the following conditions:\n",
    "\n",
    "The above copyright notice and this permission notice shall be included in all\n",
    "copies or substantial portions of the Software.\n",
    "\n",
    "THE SOFTWARE IS PROVIDED \"AS IS\", WITHOUT WARRANTY OF ANY KIND, EXPRESS OR\n",
    "IMPLIED, INCLUDING BUT NOT LIMITED TO THE WARRANTIES OF MERCHANTABILITY, FITNESS\n",
    "FOR A PARTICULAR PURPOSE AND NONINFRINGEMENT. IN NO EVENT SHALL THE AUTHORS OR\n",
    "COPYRIGHT HOLDERS BE LIABLE FOR ANY CLAIM, DAMAGES OR OTHER LIABILITY, WHETHER\n",
    "IN AN ACTION OF CONTRACT, TORT OR OTHERWISE, ARISING FROM, OUT OF OR IN\n",
    "CONNECTION WITH THE SOFTWARE OR THE USE OR OTHER DEALINGS IN THE SOFTWARE.\n",
    "\n",
    "```"
   ]
  },
  {
   "cell_type": "markdown",
   "metadata": {},
   "source": [
    "# Interacting with TRITON Inference Server\n",
    "\n",
    "Walthrough a generic pipeline for:\n",
    "- Using client libraries to run inference on models on TRITON sever\n",
    "- Modifying model configs\n",
    "\n",
    "#### Environment\n",
    "**1 - Client**\n",
    "All steps executed using **NGC Pytorch Docker (v 20.11)**\n",
    "* TRITON Client libraries installed within container\n",
    "\n",
    "**2 - Server**\n",
    "using **NGC tritonserver Docker (20.11)**"
   ]
  },
  {
   "cell_type": "markdown",
   "metadata": {},
   "source": [
    "![TRITON Workflow](./NB_images/TRITON_image.png)"
   ]
  },
  {
   "cell_type": "markdown",
   "metadata": {},
   "source": [
    "Start a new terminal and start the TRITON server by running the following command\n",
    "\n",
    "`start_triton_server.sh`\n",
    "\n",
    "This simulates a \"Server\" running in a separate docker container"
   ]
  },
  {
   "cell_type": "code",
   "execution_count": 1,
   "metadata": {},
   "outputs": [],
   "source": [
    "import argparse\n",
    "import numpy as np\n",
    "import os\n",
    "import json\n",
    "from builtins import range\n",
    "\n",
    "from lib.dataset_utils import *\n",
    "from lib.triton_utils import *\n",
    "\n",
    "import tritonclient.grpc.model_config_pb2 as mc\n",
    "import tritonclient.http as httpclient\n",
    "from tritonclient.utils import triton_to_np_dtype\n",
    "from tritonclient.utils import InferenceServerException"
   ]
  },
  {
   "cell_type": "code",
   "execution_count": 2,
   "metadata": {},
   "outputs": [
    {
     "name": "stdout",
     "output_type": "stream",
     "text": [
      "/\n",
      "    config.pbtxt\n",
      "    labels.txt\n",
      "1/\n",
      "    model.plan\n"
     ]
    }
   ],
   "source": [
    "list_files('./trtismodelrepo/v1/model_cxr_trt/')"
   ]
  },
  {
   "cell_type": "code",
   "execution_count": 3,
   "metadata": {},
   "outputs": [
    {
     "name": "stdout",
     "output_type": "stream",
     "text": [
      "name: \"model_cxr_trt\"\n",
      "platform: \"tensorrt_plan\"\n",
      "max_batch_size : 96\n",
      "input [\n",
      "  {\n",
      "    name: \"input\"\n",
      "    data_type: TYPE_FP32\n",
      "    format: FORMAT_NCHW\n",
      "    dims: [ 3, 224,224 ]\n",
      "  }\n",
      "]\n",
      "output [\n",
      "  {\n",
      "    name: \"output\"\n",
      "    data_type: TYPE_FP32\n",
      "    dims: [ 14 ]\n",
      "    label_filename: \"labels.txt\"\n",
      "  }\n",
      "]\n",
      "\n",
      "dynamic_batching {\n",
      "  preferred_batch_size: [ 80 ]\n",
      "}\n",
      "\n"
     ]
    }
   ],
   "source": [
    "!cat './trtismodelrepo/v1/model_cxr_trt/config.pbtxt'"
   ]
  },
  {
   "cell_type": "markdown",
   "metadata": {},
   "source": [
    "## Check status of Inference Server/Specific Model"
   ]
  },
  {
   "cell_type": "code",
   "execution_count": 13,
   "metadata": {
    "scrolled": true
   },
   "outputs": [],
   "source": [
    "# !curl localhost:8000/api/status"
   ]
  },
  {
   "cell_type": "code",
   "execution_count": 24,
   "metadata": {},
   "outputs": [
    {
     "name": "stdout",
     "output_type": "stream",
     "text": [
      "{'name': 'triton', 'version': '2.5.0', 'extensions': ['classification', 'sequence', 'model_repository', 'schedule_policy', 'model_configuration', 'system_shared_memory', 'cuda_shared_memory', 'binary_tensor_data', 'statistics']}\n"
     ]
    }
   ],
   "source": [
    "triton_client = httpclient.InferenceServerClient(url='localhost:8000')\n",
    "\n",
    "#Health Check\n",
    "try:\n",
    "    metadata = triton_client.get_server_metadata()\n",
    "except InferenceServerException as e:\n",
    "        print(\"failed to retrieve the metadata: \" + str(e))\n",
    "# if not (metadata['name'] == 'triton'):\n",
    "#     print(\"FAILED : get_server_metadata\")\n",
    "# #         sys.exit(1)\n",
    "print(metadata)"
   ]
  },
  {
   "cell_type": "code",
   "execution_count": 29,
   "metadata": {},
   "outputs": [
    {
     "name": "stdout",
     "output_type": "stream",
     "text": [
      "{'name': 'model_cxr_trt', 'versions': ['1'], 'platform': 'tensorrt_plan', 'inputs': [{'name': 'input', 'datatype': 'FP32', 'shape': [-1, 3, 224, 224]}], 'outputs': [{'name': 'output', 'datatype': 'FP32', 'shape': [-1, 14]}]}\n"
     ]
    }
   ],
   "source": [
    "model_name = \"model_cxr_trt\"\n",
    "# Get model status on server\n",
    "try:\n",
    "    model_metadata = triton_client.get_model_metadata(model_name)\n",
    "except InferenceServerException as e:\n",
    "        print(\"failed to retrieve the metadata: \" + str(e))\n",
    "\n",
    "print(model_metadata)"
   ]
  },
  {
   "cell_type": "code",
   "execution_count": 31,
   "metadata": {},
   "outputs": [
    {
     "name": "stdout",
     "output_type": "stream",
     "text": [
      "{'name': 'model_cxr_trt', 'platform': 'tensorrt_plan', 'backend': '', 'version_policy': {'latest': {'num_versions': 1}}, 'max_batch_size': 96, 'input': [{'name': 'input', 'data_type': 'TYPE_FP32', 'format': 'FORMAT_NCHW', 'dims': [3, 224, 224], 'is_shape_tensor': False, 'allow_ragged_batch': False}], 'output': [{'name': 'output', 'data_type': 'TYPE_FP32', 'dims': [14], 'label_filename': 'labels.txt', 'is_shape_tensor': False}], 'batch_input': [], 'batch_output': [], 'optimization': {'priority': 'PRIORITY_DEFAULT', 'input_pinned_memory': {'enable': True}, 'output_pinned_memory': {'enable': True}}, 'dynamic_batching': {'preferred_batch_size': [80], 'max_queue_delay_microseconds': 0, 'preserve_ordering': False, 'priority_levels': 0, 'default_priority_level': 0, 'priority_queue_policy': {}}, 'instance_group': [{'name': 'model_cxr_trt', 'kind': 'KIND_GPU', 'count': 1, 'gpus': [0], 'profile': []}], 'default_model_filename': 'model.plan', 'cc_model_filenames': {}, 'metric_tags': {}, 'parameters': {}, 'model_warmup': []}\n"
     ]
    }
   ],
   "source": [
    "try:\n",
    "    model_config = triton_client.get_model_config(model_name)\n",
    "except InferenceServerException as e:\n",
    "        print(\"failed to retrieve the config: \" + str(e))\n",
    "\n",
    "print(model_config)"
   ]
  },
  {
   "cell_type": "code",
   "execution_count": 41,
   "metadata": {},
   "outputs": [],
   "source": [
    "def parse_model(model_metadata, model_config):\n",
    "    \"\"\"\n",
    "    Check the configuration of a model to make sure it meets the\n",
    "    requirements\n",
    "    \"\"\"\n",
    "    if len(model_metadata['inputs']) != 1:\n",
    "        raise Exception(\"expecting 1 input, got {}\".format(\n",
    "            len(model_metadata['inputs'])))\n",
    "    if len(model_metadata['outputs']) != 1:\n",
    "        raise Exception(\"expecting 1 output, got {}\".format(\n",
    "            len(model_metadata['outputs'])))\n",
    "\n",
    "    if len(model_config['input']) != 1:\n",
    "        raise Exception(\n",
    "            \"expecting 1 input in model configuration, got {}\".format(\n",
    "                len(model_config['input'])))\n",
    "\n",
    "    input_metadata = model_metadata['inputs'][0]\n",
    "    input_config = model_config['input'][0]\n",
    "    output_metadata = model_metadata['outputs'][0]\n",
    "    \n",
    "    max_batch_size = 0\n",
    "    if 'max_batch_size' in model_config:\n",
    "        max_batch_size = model_config['max_batch_size']\n",
    "        \n",
    "    # Output is expected to be a vector. But allow any number of\n",
    "    # dimensions as long as all but 1 is size 1 (e.g. { 10 }, { 1, 10\n",
    "    # }, { 10, 1, 1 } are all ok). Ignore the batch dimension if there\n",
    "    # is one.\n",
    "    output_batch_dim = (max_batch_size > 0)\n",
    "    non_one_cnt = 0\n",
    "    for dim in output_metadata['shape']:\n",
    "        if output_batch_dim:\n",
    "            output_batch_dim = False\n",
    "        elif dim > 1:\n",
    "            non_one_cnt += 1\n",
    "            if non_one_cnt > 1:\n",
    "                raise Exception(\"expecting model output to be a vector\")\n",
    "    # Model input must have 3 dims (not counting the batch dimension),\n",
    "    # either CHW or HWC\n",
    "    input_batch_dim = (max_batch_size > 0)\n",
    "    expected_input_dims = 3 + (1 if input_batch_dim else 0)\n",
    "    if len(input_metadata['shape']) != expected_input_dims:\n",
    "        raise Exception(\n",
    "            \"expecting input to have {} dimensions, model '{}' input has {}\".\n",
    "            format(expected_input_dims, model_metadata['name'],\n",
    "                   len(input_metadata['shape'])))\n",
    "\n",
    "    if input_config['format'] == \"FORMAT_NHWC\":\n",
    "        h = input_metadata['shape'][1 if input_batch_dim else 0]\n",
    "        w = input_metadata['shape'][2 if input_batch_dim else 1]\n",
    "        c = input_metadata['shape'][3 if input_batch_dim else 2]\n",
    "    else:\n",
    "        c = input_metadata['shape'][1 if input_batch_dim else 0]\n",
    "        h = input_metadata['shape'][2 if input_batch_dim else 1]\n",
    "        w = input_metadata['shape'][3 if input_batch_dim else 2]\n",
    "    \n",
    "    return (max_batch_size, input_metadata['name'], output_metadata['name'], c,\n",
    "            h, w, input_config['format'], input_metadata['datatype'])"
   ]
  },
  {
   "cell_type": "code",
   "execution_count": 38,
   "metadata": {},
   "outputs": [],
   "source": [
    "max_batch_size, input_name, output_name, c, h, w, format, dtype = parse_model(model_metadata,model_config)"
   ]
  },
  {
   "cell_type": "markdown",
   "metadata": {},
   "source": [
    "## Setup Data for inference"
   ]
  },
  {
   "cell_type": "code",
   "execution_count": 7,
   "metadata": {},
   "outputs": [],
   "source": [
    "from lib.dataset_utils import *\n",
    "\n",
    "def get_batched_image_input(bs):\n",
    "    all_inputs = []\n",
    "    dataset_json = 'CXR14_dataset.json'\n",
    "    with open(dataset_json) as json_file:\n",
    "        data = json.load(json_file)\n",
    "    \n",
    "    test_loader = get_test_loader_TTA(data, batch_size=bs)\n",
    "\n",
    "    # Using Test Time Augmentation    \n",
    "    for i, (input, target) in enumerate(test_loader):\n",
    "        bs, n_crops, c, h, w = input.size()\n",
    "        input = input.view(-1, c, h, w)\n",
    "\n",
    "        all_inputs.append(input)\n",
    "\n",
    "    return all_inputs, data['labels'][0]\n",
    "\n",
    "bs = 8 \n",
    "im_tensor, labels = get_batched_image_input(bs)"
   ]
  },
  {
   "cell_type": "markdown",
   "metadata": {},
   "source": [
    "## Setup inference on images"
   ]
  },
  {
   "cell_type": "code",
   "execution_count": 42,
   "metadata": {},
   "outputs": [],
   "source": [
    "def triton_inferer(input_data, model_name, input_name, output_name, headers=None):\n",
    "    inputs = []\n",
    "    outputs = []\n",
    "    inputs.append(httpclient.InferInput(input_name, [80, 3, 224, 224], \"FP32\"))\n",
    "#     inputs.append(httpclient.InferInput('INPUT1', [1, 16], \"INT32\"))\n",
    "\n",
    "    # Initialize the data\n",
    "    inputs[0].set_data_from_numpy(input_data.cpu().numpy(), binary_data=True)\n",
    "#     inputs[1].set_data_from_numpy(input1_data, binary_data=True)\n",
    "\n",
    "    query_params = {'test_1': 1, 'test_2': 2}\n",
    "    results = triton_client.infer(model_name,\n",
    "                                  inputs,\n",
    "                                  outputs=None,\n",
    "#                                   query_params=query_params,\n",
    "                                  headers=headers)\n",
    "\n",
    "    return results.as_numpy(output_name)\n",
    "\n",
    "def process_results_cxr(out):\n",
    "    outputs = torch.cat([torch.tensor(np.atleast_2d(im)) for im in out])\n",
    "    output = torch.nn.functional.softmax(outputs, dim=1).cpu()\n",
    "    output = output.view(8, 10, -1).mean(1).numpy()\n",
    "    top5 = np.argsort(output)[:,-5:][:,::-1]\n",
    "\n",
    "\n",
    "    for i in range(8):\n",
    "        t5 = top5[i]\n",
    "        op = output[i]\n",
    "        txt = 'Image {} -- '.format(i+1)\n",
    "        for c, v in zip(t5, op[t5]):\n",
    "            txt = txt + f\"{labels[str(c)]}: {100*v:.1f}% \"\n",
    "        print(txt)"
   ]
  },
  {
   "cell_type": "code",
   "execution_count": 43,
   "metadata": {},
   "outputs": [
    {
     "name": "stdout",
     "output_type": "stream",
     "text": [
      "Image 1 -- Cardiomegaly: 90.4% Effusion: 5.7% Emphysema: 2.0% Nodule: 0.5% Pleural_Thickening: 0.5% \n",
      "Image 2 -- Cardiomegaly: 91.4% Emphysema: 3.2% Effusion: 2.7% Infiltration: 1.0% Nodule: 0.5% \n",
      "Image 3 -- Cardiomegaly: 88.1% Effusion: 7.4% Emphysema: 1.6% Infiltration: 0.8% Atelectasis: 0.6% \n",
      "Image 4 -- Infiltration: 33.5% Nodule: 32.7% Emphysema: 9.1% Effusion: 8.8% Pleural_Thickening: 5.6% \n",
      "Image 5 -- Nodule: 51.6% Mass: 40.5% Infiltration: 4.2% Consolidation: 1.7% Atelectasis: 1.4% \n",
      "Image 6 -- Infiltration: 22.7% Nodule: 22.0% Atelectasis: 19.1% Pleural_Thickening: 8.7% Effusion: 6.9% \n",
      "Image 7 -- Infiltration: 39.7% Nodule: 30.7% Atelectasis: 7.3% Consolidation: 6.3% Pleural_Thickening: 4.5% \n",
      "Image 8 -- Infiltration: 34.8% Pneumothorax: 25.8% Atelectasis: 16.2% Consolidation: 9.7% Nodule: 3.9% \n"
     ]
    }
   ],
   "source": [
    "model_name = \"model_cxr_trt\"\n",
    "out = triton_inferer(im_tensor[0], model_name,input_name, output_name)\n",
    "process_results_cxr(out)"
   ]
  },
  {
   "cell_type": "code",
   "execution_count": 44,
   "metadata": {},
   "outputs": [
    {
     "name": "stdout",
     "output_type": "stream",
     "text": [
      "Image 1 -- Cardiomegaly: 90.3% Effusion: 5.7% Emphysema: 2.0% Nodule: 0.5% Pleural_Thickening: 0.5% \n",
      "Image 2 -- Cardiomegaly: 91.3% Emphysema: 3.2% Effusion: 2.8% Infiltration: 1.0% Nodule: 0.5% \n",
      "Image 3 -- Cardiomegaly: 88.0% Effusion: 7.5% Emphysema: 1.6% Infiltration: 0.8% Atelectasis: 0.7% \n",
      "Image 4 -- Infiltration: 33.6% Nodule: 32.6% Emphysema: 9.0% Effusion: 8.9% Pleural_Thickening: 5.6% \n",
      "Image 5 -- Nodule: 51.5% Mass: 40.7% Infiltration: 4.1% Consolidation: 1.7% Atelectasis: 1.4% \n",
      "Image 6 -- Infiltration: 22.7% Nodule: 22.1% Atelectasis: 18.9% Pleural_Thickening: 8.7% Effusion: 6.8% \n",
      "Image 7 -- Infiltration: 39.6% Nodule: 30.8% Atelectasis: 7.2% Consolidation: 6.3% Pleural_Thickening: 4.5% \n",
      "Image 8 -- Infiltration: 34.7% Pneumothorax: 26.1% Atelectasis: 16.1% Consolidation: 9.7% Nodule: 3.9% \n"
     ]
    }
   ],
   "source": [
    "model_name = \"model_cxr_trt_fp16\"\n",
    "out = triton_inferer(im_tensor[0], model_name,input_name, output_name)\n",
    "process_results_cxr(out)"
   ]
  },
  {
   "cell_type": "code",
   "execution_count": 45,
   "metadata": {},
   "outputs": [
    {
     "name": "stdout",
     "output_type": "stream",
     "text": [
      "Image 1 -- Cardiomegaly: 90.4% Effusion: 5.7% Emphysema: 2.0% Nodule: 0.5% Pleural_Thickening: 0.5% \n",
      "Image 2 -- Cardiomegaly: 91.4% Emphysema: 3.2% Effusion: 2.7% Infiltration: 1.0% Nodule: 0.5% \n",
      "Image 3 -- Cardiomegaly: 88.1% Effusion: 7.4% Emphysema: 1.6% Infiltration: 0.8% Atelectasis: 0.6% \n",
      "Image 4 -- Infiltration: 33.5% Nodule: 32.7% Emphysema: 9.1% Effusion: 8.8% Pleural_Thickening: 5.6% \n",
      "Image 5 -- Nodule: 51.6% Mass: 40.5% Infiltration: 4.2% Consolidation: 1.7% Atelectasis: 1.4% \n",
      "Image 6 -- Infiltration: 22.7% Nodule: 22.0% Atelectasis: 19.1% Pleural_Thickening: 8.7% Effusion: 6.9% \n",
      "Image 7 -- Infiltration: 39.7% Nodule: 30.7% Atelectasis: 7.3% Consolidation: 6.3% Pleural_Thickening: 4.5% \n",
      "Image 8 -- Infiltration: 34.8% Pneumothorax: 25.8% Atelectasis: 16.2% Consolidation: 9.7% Nodule: 3.9% \n"
     ]
    }
   ],
   "source": [
    "model_name = \"model_cxr_onnx\"\n",
    "out = triton_inferer(im_tensor[0], model_name,input_name, output_name)\n",
    "process_results_cxr(out)"
   ]
  },
  {
   "cell_type": "code",
   "execution_count": 20,
   "metadata": {},
   "outputs": [
    {
     "name": "stdout",
     "output_type": "stream",
     "text": [
      "{'name': 'model_cxr_onnx', 'versions': ['1'], 'platform': 'onnxruntime_onnx', 'inputs': [{'name': 'input', 'datatype': 'FP32', 'shape': [-1, 3, 224, 224]}], 'outputs': [{'name': 'output', 'datatype': 'FP32', 'shape': [-1, 14]}]}\n"
     ]
    }
   ],
   "source": [
    "model_name = \"model_cxr_onnx\"\n",
    "# Get model status on server\n",
    "metadata = triton_client.get_model_metadata(model_name,\n",
    "                                                query_params={\n",
    "                                                    'test_1': 1,\n",
    "                                                    'test_2': 2\n",
    "                                                })\n",
    "if not (metadata['name'] == model_name):\n",
    "    print(\"FAILED : get_model_metadata\")\n",
    "print(metadata)"
   ]
  },
  {
   "cell_type": "code",
   "execution_count": 22,
   "metadata": {},
   "outputs": [],
   "source": [
    "import time"
   ]
  },
  {
   "cell_type": "code",
   "execution_count": 23,
   "metadata": {},
   "outputs": [],
   "source": [
    "counter = 1\n",
    "while counter < 10:\n",
    "    out = triton_inferer(im_tensor[0], model_name)\n",
    "    if counter % 100 == 0: print('Iteration {}'.format(counter))\n",
    "    time.sleep(2)\n",
    "    counter += 1"
   ]
  },
  {
   "cell_type": "code",
   "execution_count": null,
   "metadata": {},
   "outputs": [],
   "source": []
  }
 ],
 "metadata": {
  "kernelspec": {
   "display_name": "Python 3",
   "language": "python",
   "name": "python3"
  },
  "language_info": {
   "codemirror_mode": {
    "name": "ipython",
    "version": 3
   },
   "file_extension": ".py",
   "mimetype": "text/x-python",
   "name": "python",
   "nbconvert_exporter": "python",
   "pygments_lexer": "ipython3",
   "version": "3.6.10"
  }
 },
 "nbformat": 4,
 "nbformat_minor": 4
}
